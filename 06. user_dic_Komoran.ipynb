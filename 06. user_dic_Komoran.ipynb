{
 "cells": [
  {
   "cell_type": "code",
   "execution_count": 1,
   "id": "f6510f73",
   "metadata": {},
   "outputs": [],
   "source": [
    "from konlpy.tag import Komoran\n",
    "\n",
    "komoran = Komoran()"
   ]
  },
  {
   "cell_type": "code",
   "execution_count": 2,
   "id": "0882bbfc",
   "metadata": {},
   "outputs": [
    {
     "name": "stdout",
     "output_type": "stream",
     "text": [
      "[('어쩌', 'VV'), ('ㄹ', 'ETM'), ('티', 'NNG'), ('비', 'NNG'), ('어쩌', 'VV'), ('ㄹ', 'ETM'), ('티', 'NNG'), ('비', 'NNG'), ('절', 'VV'), ('ㄹ래', 'EC'), ('절', 'VV'), ('ㄹ래', 'EC'), ('절', 'NNG'), ('래', 'NNG'), ('동화', 'NNP'), ('.', 'SF')]\n"
     ]
    }
   ],
   "source": [
    "text = \"어쩔티비 저쩔티비 절래절래 절래동화.\"\n",
    "pos = komoran.pos(text)\n",
    "print(pos)"
   ]
  },
  {
   "cell_type": "markdown",
   "id": "760be9e1",
   "metadata": {},
   "source": [
    "user_dic.tsv 파일에  \n",
    "'어쩔티비 NNG'  \n",
    "'저쩔티비 NNG'  \n",
    "'절래절래 NNG'  \n",
    "'절래동화 NNG'  \n",
    "를 만들어 사용자 사전을 구축함."
   ]
  },
  {
   "cell_type": "code",
   "execution_count": 3,
   "id": "ac384c94",
   "metadata": {},
   "outputs": [],
   "source": [
    "komoran = Komoran(userdic='./user_dic.tsv')"
   ]
  },
  {
   "cell_type": "code",
   "execution_count": 4,
   "id": "e9ead210",
   "metadata": {},
   "outputs": [
    {
     "name": "stdout",
     "output_type": "stream",
     "text": [
      "[('어쩔티비', 'NNG'), ('저쩔티비', 'NNG'), ('절래절래', 'NNG'), ('절래동화', 'NNG'), ('.', 'SF')]\n"
     ]
    }
   ],
   "source": [
    "pos = komoran.pos(text)\n",
    "print(pos)"
   ]
  }
 ],
 "metadata": {
  "kernelspec": {
   "display_name": "Python 3",
   "language": "python",
   "name": "python3"
  },
  "language_info": {
   "codemirror_mode": {
    "name": "ipython",
    "version": 3
   },
   "file_extension": ".py",
   "mimetype": "text/x-python",
   "name": "python",
   "nbconvert_exporter": "python",
   "pygments_lexer": "ipython3",
   "version": "3.8.8"
  }
 },
 "nbformat": 4,
 "nbformat_minor": 5
}
