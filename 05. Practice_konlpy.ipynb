{
 "cells": [
  {
   "cell_type": "markdown",
   "id": "ac008726",
   "metadata": {},
   "source": [
    "Komoran"
   ]
  },
  {
   "cell_type": "code",
   "execution_count": 1,
   "id": "4cff375e",
   "metadata": {},
   "outputs": [],
   "source": [
    "from konlpy.tag import Komoran"
   ]
  },
  {
   "cell_type": "code",
   "execution_count": 2,
   "id": "4b8dc74b",
   "metadata": {},
   "outputs": [],
   "source": [
    "komoran = Komoran()"
   ]
  },
  {
   "cell_type": "code",
   "execution_count": 3,
   "id": "51424bb1",
   "metadata": {},
   "outputs": [],
   "source": [
    "text = \"자연어 처리 공부는 흥미롭다.\""
   ]
  },
  {
   "cell_type": "code",
   "execution_count": 4,
   "id": "dc40346b",
   "metadata": {},
   "outputs": [
    {
     "name": "stdout",
     "output_type": "stream",
     "text": [
      "['자연어', '처리', '공부', '는', '흥미', '롭', '다', '.']\n"
     ]
    }
   ],
   "source": [
    "morphs = komoran.morphs(text)\n",
    "print(morphs)"
   ]
  },
  {
   "cell_type": "code",
   "execution_count": 5,
   "id": "220d03db",
   "metadata": {},
   "outputs": [
    {
     "name": "stdout",
     "output_type": "stream",
     "text": [
      "[('자연어', 'NNP'), ('처리', 'NNG'), ('공부', 'NNG'), ('는', 'JX'), ('흥미', 'NNG'), ('롭', 'XSA'), ('다', 'EF'), ('.', 'SF')]\n"
     ]
    }
   ],
   "source": [
    "pos = komoran.pos(text)\n",
    "print(pos)"
   ]
  },
  {
   "cell_type": "code",
   "execution_count": 6,
   "id": "77dae0dc",
   "metadata": {},
   "outputs": [
    {
     "name": "stdout",
     "output_type": "stream",
     "text": [
      "['자연어', '처리', '공부', '흥미']\n"
     ]
    }
   ],
   "source": [
    "nouns = komoran.nouns(text)\n",
    "print(nouns)"
   ]
  },
  {
   "cell_type": "markdown",
   "id": "77c1f564",
   "metadata": {},
   "source": [
    "Kkma"
   ]
  },
  {
   "cell_type": "code",
   "execution_count": 7,
   "id": "913cd8de",
   "metadata": {},
   "outputs": [],
   "source": [
    "from konlpy.tag import Kkma"
   ]
  },
  {
   "cell_type": "code",
   "execution_count": 8,
   "id": "5578ef3b",
   "metadata": {},
   "outputs": [],
   "source": [
    "kkma = Kkma()"
   ]
  },
  {
   "cell_type": "code",
   "execution_count": 9,
   "id": "87e705bc",
   "metadata": {},
   "outputs": [],
   "source": [
    "text = \"자연어 처리 공부는 흥미롭다.\""
   ]
  },
  {
   "cell_type": "code",
   "execution_count": 10,
   "id": "82b5c3ae",
   "metadata": {},
   "outputs": [
    {
     "name": "stdout",
     "output_type": "stream",
     "text": [
      "['자연어', '처리', '공부', '는', '흥미', '롭', '다', '.']\n"
     ]
    }
   ],
   "source": [
    "morphs = kkma.morphs(text)\n",
    "print(morphs)"
   ]
  },
  {
   "cell_type": "code",
   "execution_count": 11,
   "id": "f4a1eb60",
   "metadata": {},
   "outputs": [
    {
     "name": "stdout",
     "output_type": "stream",
     "text": [
      "[('자연어', 'NNG'), ('처리', 'NNG'), ('공부', 'NNG'), ('는', 'JX'), ('흥미', 'NNG'), ('롭', 'XSA'), ('다', 'EFN'), ('.', 'SF')]\n"
     ]
    }
   ],
   "source": [
    "pos = kkma.pos(text)\n",
    "print(pos)"
   ]
  },
  {
   "cell_type": "code",
   "execution_count": 12,
   "id": "4ddde2c1",
   "metadata": {},
   "outputs": [
    {
     "name": "stdout",
     "output_type": "stream",
     "text": [
      "['자연어', '처리', '공부', '흥미']\n"
     ]
    }
   ],
   "source": [
    "nouns = kkma.nouns(text)\n",
    "print(nouns)"
   ]
  },
  {
   "cell_type": "code",
   "execution_count": 13,
   "id": "7e76c2de",
   "metadata": {},
   "outputs": [
    {
     "name": "stdout",
     "output_type": "stream",
     "text": [
      "['올해는 진짜 춥겠지?', '롱 패딩 사야지.']\n"
     ]
    }
   ],
   "source": [
    "sentences = \"올해는 진짜 춥겠지? 롱패딩 사야지.\"\n",
    "s = kkma.sentences(sentences)\n",
    "print(s)"
   ]
  },
  {
   "cell_type": "markdown",
   "id": "bf55695c",
   "metadata": {},
   "source": [
    "Okt"
   ]
  },
  {
   "cell_type": "code",
   "execution_count": 14,
   "id": "f488797e",
   "metadata": {},
   "outputs": [],
   "source": [
    "from konlpy.tag import Okt"
   ]
  },
  {
   "cell_type": "code",
   "execution_count": 15,
   "id": "eada9e45",
   "metadata": {},
   "outputs": [],
   "source": [
    "okt = Okt()"
   ]
  },
  {
   "cell_type": "code",
   "execution_count": 16,
   "id": "b5f214be",
   "metadata": {},
   "outputs": [],
   "source": [
    "text = \"자연어 처리 공부는 흥미롭다.\""
   ]
  },
  {
   "cell_type": "code",
   "execution_count": 17,
   "id": "fe2f33dd",
   "metadata": {},
   "outputs": [
    {
     "name": "stdout",
     "output_type": "stream",
     "text": [
      "['자연어', '처리', '공부', '는', '흥미롭다', '.']\n"
     ]
    }
   ],
   "source": [
    "morphs = okt.morphs(text)\n",
    "print(morphs)"
   ]
  },
  {
   "cell_type": "code",
   "execution_count": 18,
   "id": "305c644b",
   "metadata": {},
   "outputs": [
    {
     "name": "stdout",
     "output_type": "stream",
     "text": [
      "[('자연어', 'Noun'), ('처리', 'Noun'), ('공부', 'Noun'), ('는', 'Josa'), ('흥미롭다', 'Adjective'), ('.', 'Punctuation')]\n"
     ]
    }
   ],
   "source": [
    "pos = okt.pos(text)\n",
    "print(pos)"
   ]
  },
  {
   "cell_type": "code",
   "execution_count": 19,
   "id": "c3a4d49d",
   "metadata": {},
   "outputs": [
    {
     "name": "stdout",
     "output_type": "stream",
     "text": [
      "['자연어', '처리', '공부']\n"
     ]
    }
   ],
   "source": [
    "nouns = okt.nouns(text)\n",
    "print(nouns)"
   ]
  },
  {
   "cell_type": "code",
   "execution_count": 20,
   "id": "6acbb9aa",
   "metadata": {},
   "outputs": [
    {
     "name": "stdout",
     "output_type": "stream",
     "text": [
      "자연어 처리 재밌어ㅋㅋ\n",
      "['자연어', '자연어 처리', '자연어 처리 재밌엌', '처리', '재밌엌']\n"
     ]
    }
   ],
   "source": [
    "text = \"자연어 처리 재밌엌ㅋㅋ\"\n",
    "print(okt.normalize(text))\n",
    "print(okt.phrases(text))"
   ]
  }
 ],
 "metadata": {
  "kernelspec": {
   "display_name": "Python 3",
   "language": "python",
   "name": "python3"
  },
  "language_info": {
   "codemirror_mode": {
    "name": "ipython",
    "version": 3
   },
   "file_extension": ".py",
   "mimetype": "text/x-python",
   "name": "python",
   "nbconvert_exporter": "python",
   "pygments_lexer": "ipython3",
   "version": "3.8.8"
  }
 },
 "nbformat": 4,
 "nbformat_minor": 5
}
